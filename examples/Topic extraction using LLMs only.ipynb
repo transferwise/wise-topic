{
 "cells": [
  {
   "cell_type": "markdown",
   "id": "45ebdda2",
   "metadata": {},
   "source": [
    "# Topic extraction using LLMs only\n",
    "\n",
    "The traditional ML ways of topic extraction rely on converting each message into a vector in some vector space, and then clustering in that vector space. \"Topics\" are then really just regions in that vector space.\n",
    "\n",
    "This approach has several weaknesses: Even interpreting such clusters is not trivial; editing them after the fit, let alone specifying an initial list of human-defined topics, to be automatically expanded if necessary, is pretty much impossible.\n",
    "\n",
    "Here we show a different way, using only LLM calls. It works as follows: we feed one message at the time to the topic processor; it either assigns it to one of the existing topics, or if none are a good fit, puts it aside. Once the number of messages put aside reaches a threshold, these are used to extract a new topic, which is added to the list. There is also the option of generating topich hierarchies, by setting `max_depth` to a value bigger than 1.\n"
   ]
  },
  {
   "cell_type": "code",
   "execution_count": 1,
   "id": "f32f114d",
   "metadata": {},
   "outputs": [],
   "source": [
    "from pprint import pprint\n",
    "\n",
    "from langchain_openai import ChatOpenAI\n",
    "\n",
    "try:\n",
    "    import wise_topic\n",
    "except ImportError:\n",
    "    import os, sys\n",
    "    sys.path.append(os.path.realpath(\"..\"))\n",
    "\n",
    "\n",
    "from wise_topic import greedy_topic_tree, tree_summary\n",
    "\n",
    "docs = [\n",
    "    \"The summer sun blazed high in the sky, bringing warmth to the sandy beaches.\",\n",
    "    \"During summer, the days are long and the nights are warm and inviting.\",\n",
    "    \"Ice cream sales soar as people seek relief from the summer heat.\",\n",
    "    \"Families often choose summer for vacations to take advantage of the sunny weather.\",\n",
    "    \"Many festivals and outdoor concerts are scheduled in the summer months.\",\n",
    "    \"Winter brings the joy of snowfall and the excitement of skiing.\",\n",
    "    \"The cold winter nights are perfect for sipping hot chocolate by the fire.\",\n",
    "    \"Winter storms can transform the landscape into a snowy wonderland.\",\n",
    "    \"Heating bills tend to rise as winter's chill sets in.\",\n",
    "    \"Many animals hibernate or migrate to cope with the harsh winter conditions.\",\n",
    "    \"Fish swim in schools to protect themselves from predators.\",\n",
    "    \"Salmon migrate upstream during spawning season, a remarkable journey.\",\n",
    "    \"Tropical fish add vibrant color and life to coral reefs.\",\n",
    "    \"Overfishing threatens many species of fish with extinction.\",\n",
    "    \"Fish have a diverse range of habitats from deep oceans to shallow streams.\",\n",
    "]\n"
   ]
  },
  {
   "cell_type": "code",
   "execution_count": 2,
   "id": "d7288d4b",
   "metadata": {},
   "outputs": [
    {
     "data": {
      "text/plain": [
       "{'Summer': 6, 'Winter': 5, 'threats to diverse fish species': 4}"
      ]
     },
     "execution_count": 2,
     "metadata": {},
     "output_type": "execute_result"
    }
   ],
   "source": [
    "topic_llm = ChatOpenAI(\n",
    "    model=\"gpt-4-turbo\",\n",
    "    temperature=0,\n",
    "    model_kwargs={\"response_format\": {\"type\": \"json_object\"}},\n",
    ")\n",
    "\n",
    "classifier_llm = ChatOpenAI(model=\"gpt-4-turbo\", temperature=0)\n",
    "\n",
    "topic_tree = greedy_topic_tree(\n",
    "    docs,\n",
    "    initial_topics=[\"Winter\", \"Summer\"],\n",
    "    topic_llm=topic_llm,\n",
    "    classifier_llm=classifier_llm,\n",
    "    max_depth=1,\n",
    "    num_topics_per_update=1,\n",
    "    max_unclassified_messages=2,\n",
    ")\n",
    "\n",
    "tree_summary(topic_tree)"
   ]
  },
  {
   "cell_type": "code",
   "execution_count": 3,
   "id": "a4757ef7",
   "metadata": {},
   "outputs": [
    {
     "data": {
      "text/plain": [
       "{'Summer': {'messages': ['During summer, the days are long and the nights are warm and inviting.',\n",
       "   'Tropical fish add vibrant color and life to coral reefs.',\n",
       "   'The summer sun blazed high in the sky, bringing warmth to the sandy beaches.',\n",
       "   'Ice cream sales soar as people seek relief from the summer heat.',\n",
       "   'Many festivals and outdoor concerts are scheduled in the summer months.',\n",
       "   'Families often choose summer for vacations to take advantage of the sunny weather.']},\n",
       " 'Winter': {'messages': ['Winter storms can transform the landscape into a snowy wonderland.',\n",
       "   'Winter brings the joy of snowfall and the excitement of skiing.',\n",
       "   'The cold winter nights are perfect for sipping hot chocolate by the fire.',\n",
       "   'Many animals hibernate or migrate to cope with the harsh winter conditions.',\n",
       "   \"Heating bills tend to rise as winter's chill sets in.\"]},\n",
       " 'threats to diverse fish species': {'messages': ['Fish swim in schools to protect themselves from predators.',\n",
       "   'Fish have a diverse range of habitats from deep oceans to shallow streams.',\n",
       "   'Overfishing threatens many species of fish with extinction.',\n",
       "   'Salmon migrate upstream during spawning season, a remarkable journey.']}}"
      ]
     },
     "metadata": {},
     "output_type": "display_data"
    }
   ],
   "source": [
    "display(topic_tree)"
   ]
  },
  {
   "cell_type": "code",
   "execution_count": null,
   "id": "381d095e",
   "metadata": {},
   "outputs": [],
   "source": []
  }
 ],
 "metadata": {
  "kernelspec": {
   "display_name": "Python [conda env:llm3.11]",
   "language": "python",
   "name": "conda-env-llm3.11-py"
  },
  "language_info": {
   "codemirror_mode": {
    "name": "ipython",
    "version": 3
   },
   "file_extension": ".py",
   "mimetype": "text/x-python",
   "name": "python",
   "nbconvert_exporter": "python",
   "pygments_lexer": "ipython3",
   "version": "3.11.5"
  }
 },
 "nbformat": 4,
 "nbformat_minor": 5
}
